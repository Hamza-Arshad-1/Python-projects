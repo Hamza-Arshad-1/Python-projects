{
 "cells": [
  {
   "cell_type": "code",
   "execution_count": 5,
   "id": "0cc7cb8f",
   "metadata": {},
   "outputs": [
    {
     "name": "stdout",
     "output_type": "stream",
     "text": [
      "Requirement already satisfied: googletrans==3.1.0a0 in g:\\ana\\lib\\site-packages (3.1.0a0)"
     ]
    },
    {
     "name": "stderr",
     "output_type": "stream",
     "text": [
      "WARNING: Ignoring invalid distribution -ip (g:\\ana\\lib\\site-packages)\n",
      "WARNING: Ignoring invalid distribution -ip (g:\\ana\\lib\\site-packages)\n",
      "WARNING: Ignoring invalid distribution -ip (g:\\ana\\lib\\site-packages)"
     ]
    },
    {
     "name": "stdout",
     "output_type": "stream",
     "text": [
      "\n",
      "Requirement already satisfied: httpx==0.13.3 in g:\\ana\\lib\\site-packages (from googletrans==3.1.0a0) (0.13.3)\n",
      "Requirement already satisfied: certifi in g:\\ana\\lib\\site-packages (from httpx==0.13.3->googletrans==3.1.0a0) (2021.10.8)\n",
      "Requirement already satisfied: sniffio in g:\\ana\\lib\\site-packages (from httpx==0.13.3->googletrans==3.1.0a0) (1.2.0)\n",
      "Requirement already satisfied: httpcore==0.9.* in g:\\ana\\lib\\site-packages (from httpx==0.13.3->googletrans==3.1.0a0) (0.9.1)\n",
      "Requirement already satisfied: chardet==3.* in g:\\ana\\lib\\site-packages (from httpx==0.13.3->googletrans==3.1.0a0) (3.0.4)\n",
      "Requirement already satisfied: rfc3986<2,>=1.3 in g:\\ana\\lib\\site-packages (from httpx==0.13.3->googletrans==3.1.0a0) (1.5.0)\n",
      "Requirement already satisfied: hstspreload in g:\\ana\\lib\\site-packages (from httpx==0.13.3->googletrans==3.1.0a0) (2021.12.1)\n",
      "Requirement already satisfied: idna==2.* in g:\\ana\\lib\\site-packages (from httpx==0.13.3->googletrans==3.1.0a0) (2.10)\n",
      "Requirement already satisfied: h11<0.10,>=0.8 in g:\\ana\\lib\\site-packages (from httpcore==0.9.*->httpx==0.13.3->googletrans==3.1.0a0) (0.9.0)\n",
      "Requirement already satisfied: h2==3.* in g:\\ana\\lib\\site-packages (from httpcore==0.9.*->httpx==0.13.3->googletrans==3.1.0a0) (3.2.0)\n",
      "Requirement already satisfied: hpack<4,>=3.0 in g:\\ana\\lib\\site-packages (from h2==3.*->httpcore==0.9.*->httpx==0.13.3->googletrans==3.1.0a0) (3.0.0)\n",
      "Requirement already satisfied: hyperframe<6,>=5.2.0 in g:\\ana\\lib\\site-packages (from h2==3.*->httpcore==0.9.*->httpx==0.13.3->googletrans==3.1.0a0) (5.2.0)\n"
     ]
    },
    {
     "name": "stderr",
     "output_type": "stream",
     "text": [
      "\n",
      "WARNING: Ignoring invalid distribution -ip (g:\\ana\\lib\\site-packages)\n",
      "WARNING: Ignoring invalid distribution -ip (g:\\ana\\lib\\site-packages)\n",
      "WARNING: Ignoring invalid distribution -ip (g:\\ana\\lib\\site-packages)\n"
     ]
    }
   ],
   "source": [
    "! pip install googletrans==3.1.0a0"
   ]
  },
  {
   "cell_type": "code",
   "execution_count": 7,
   "id": "00fba761",
   "metadata": {},
   "outputs": [
    {
     "name": "stdout",
     "output_type": "stream",
     "text": [
      "آپ کیسے ہو؟\n",
      "Tell me who doesn't love baby yoda from mandolarian? \n",
      "Baby yoda has shaken me like soda.\n",
      " \n",
      " Translation مجھے بتائیں کہ منڈلورین سے بیبی یوڈا کون پسند نہیں کرتا؟\n",
      "بیبی یوڈا نے مجھے سوڈا کی طرح ہلا کر رکھ دیا ہے۔\n",
      "میں ازگر سیکھ رہا ہوں۔\n"
     ]
    }
   ],
   "source": [
    "# pip install googletrans==3.1.0a0\n",
    "\n",
    "from googletrans import Translator\n",
    "translator = Translator()\n",
    "\n",
    "out = translator.translate(\"क्या हाल है\", dest='ur')\n",
    "print(out.text)\n",
    "\n",
    "mystory = '''Tell me who doesn't love baby yoda from mandolarian? \n",
    "Baby yoda has shaken me like soda.\n",
    "'''\n",
    "out = translator.translate(mystory, dest='ur')\n",
    "print(mystory,\"\\n\", \"Translation\", out.text)\n",
    "\n",
    "out = translator.translate(\"I am learning python\", dest='ur')\n",
    "print(out.text)"
   ]
  }
 ],
 "metadata": {
  "kernelspec": {
   "display_name": "Python 3 (ipykernel)",
   "language": "python",
   "name": "python3"
  },
  "language_info": {
   "codemirror_mode": {
    "name": "ipython",
    "version": 3
   },
   "file_extension": ".py",
   "mimetype": "text/x-python",
   "name": "python",
   "nbconvert_exporter": "python",
   "pygments_lexer": "ipython3",
   "version": "3.9.7"
  }
 },
 "nbformat": 4,
 "nbformat_minor": 5
}
